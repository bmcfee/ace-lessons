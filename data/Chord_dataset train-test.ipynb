{
 "cells": [
  {
   "cell_type": "markdown",
   "metadata": {},
   "source": [
    "# 1217 train-test indices\n",
    "\n",
    "This notebook reconstructs the train-test split indices from the `chord_dataset` experiments."
   ]
  },
  {
   "cell_type": "code",
   "execution_count": 1,
   "metadata": {
    "collapsed": true
   },
   "outputs": [],
   "source": [
    "import json\n",
    "from glob import glob"
   ]
  },
  {
   "cell_type": "code",
   "execution_count": 2,
   "metadata": {
    "collapsed": true
   },
   "outputs": [],
   "source": [
    "with open('chord_dataset/results/DNN/all_DNN_test.json', 'r') as fd:\n",
    "    all_ids = set(json.load(fd)['scores']['root'].keys())"
   ]
  },
  {
   "cell_type": "code",
   "execution_count": 3,
   "metadata": {
    "collapsed": true
   },
   "outputs": [],
   "source": [
    "train_files = sorted(glob('chord_dataset/results/DNN/all_DNN_train*.json'))"
   ]
  },
  {
   "cell_type": "code",
   "execution_count": 4,
   "metadata": {},
   "outputs": [],
   "source": [
    "for split, tf in enumerate(train_files):\n",
    "    with open(tf, 'r') as fd:\n",
    "        train_ids = set(json.load(fd)['scores']['root'].keys())\n",
    "        test_ids = all_ids - train_ids\n",
    "        \n",
    "    train_ids = sorted(list(train_ids))\n",
    "    with open('chord_dataset/train{:02d}.csv'.format(split), 'w') as fd:\n",
    "        fd.write('\\n'.join(train_ids))\n",
    "        \n",
    "    test_ids = sorted(list(test_ids))\n",
    "    with open('chord_dataset/test{:02d}.csv'.format(split), 'w') as fd:\n",
    "        fd.write('\\n'.join(test_ids))"
   ]
  }
 ],
 "metadata": {
  "kernelspec": {
   "display_name": "Python 3.5",
   "language": "python",
   "name": "python3.5"
  },
  "language_info": {
   "codemirror_mode": {
    "name": "ipython",
    "version": 3
   },
   "file_extension": ".py",
   "mimetype": "text/x-python",
   "name": "python",
   "nbconvert_exporter": "python",
   "pygments_lexer": "ipython3",
   "version": "3.5.3"
  }
 },
 "nbformat": 4,
 "nbformat_minor": 2
}
